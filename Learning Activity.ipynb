{
 "cells": [
  {
   "cell_type": "markdown",
   "metadata": {},
   "source": [
    "ISE 870 March 9 Activity - Julian Liber\n",
    "\n",
    "## Hello fellow students!\n",
    "\n",
    "#### Welcome to my learning activity! This activity should teach you:\n",
    "- How to run code in a Jupyter Notebook\n",
    "- Basic operations in Python\n",
    "- What are loops and dictionaries\n",
    "- How to crack a coded message\n",
    "\n",
    "#### Let's get started\n",
    "\n",
    "This is a Jupyter Notebook, run using Google Colab. This means you do not need to download any software to your computer. This notebook is made of cells, which can be edited. This cell is in markdown format, while the one below is using code.\n",
    "\n",
    "To run a code cell in the notebook, click the cell and press Shift + Enter or Ctrl/Command + Enter.\n",
    "\n",
    "Try the next cell to see what happens."
   ]
  },
  {
   "cell_type": "code",
   "execution_count": 2,
   "metadata": {},
   "outputs": [
    {
     "name": "stdout",
     "output_type": "stream",
     "text": [
      "Hello World!\n"
     ]
    }
   ],
   "source": [
    "print(\"Hello World!\")"
   ]
  },
  {
   "cell_type": "markdown",
   "metadata": {},
   "source": [
    "If you did it correctly, you should see \"Hello World!\" printed below the cell and a number in brackets (`[1]`) to the left.\n",
    "\n",
    "You also just ran a function! `print(input)` will display the value of `input`.\n",
    "\n",
    "Now we can try the assignment operation, `=`."
   ]
  },
  {
   "cell_type": "code",
   "execution_count": 3,
   "metadata": {},
   "outputs": [],
   "source": [
    "x = 10 # x will now equal ten."
   ]
  },
  {
   "cell_type": "markdown",
   "metadata": {},
   "source": [
    "Print the value of `x` by writing and executing code in the cell below."
   ]
  },
  {
   "cell_type": "code",
   "execution_count": null,
   "metadata": {},
   "outputs": [],
   "source": [
    "\n",
    "# Print the value of x"
   ]
  },
  {
   "cell_type": "markdown",
   "metadata": {},
   "source": [
    "#### What if we want the value of `x` to change as we run the code?\n",
    "\n",
    "Then we need to use a loop. A `for` loop will move through a group of \"objects\" and change the \"loop variable\" to each of the objects in that group. As an example, see below."
   ]
  },
  {
   "cell_type": "code",
   "execution_count": 4,
   "metadata": {},
   "outputs": [
    {
     "name": "stdout",
     "output_type": "stream",
     "text": [
      "1\n",
      "2\n",
      "3\n",
      "4\n"
     ]
    }
   ],
   "source": [
    "for x in [1, 2, 3, 4]:\n",
    "    print(x)"
   ]
  },
  {
   "cell_type": "markdown",
   "metadata": {},
   "source": [
    "In this example, the loop variable `x` is equal to 1, 2, 3, and 4 in a sequence. The group of objects could also be a word or sentence, called a \"string\" in Python. In that case, each letter is an object."
   ]
  },
  {
   "cell_type": "code",
   "execution_count": 5,
   "metadata": {},
   "outputs": [
    {
     "name": "stdout",
     "output_type": "stream",
     "text": [
      "a\n",
      " \n",
      "v\n",
      "e\n",
      "r\n",
      "y\n",
      " \n",
      "s\n",
      "h\n",
      "o\n",
      "r\n",
      "t\n",
      " \n",
      "s\n",
      "e\n",
      "n\n",
      "t\n",
      "e\n",
      "n\n",
      "c\n",
      "e\n"
     ]
    }
   ],
   "source": [
    "for letter in \"a very short sentence\":\n",
    "    print(letter)"
   ]
  },
  {
   "cell_type": "markdown",
   "metadata": {},
   "source": [
    "Try writing your own `for` loop to loop through the string `\"programming is fun!\"`. Remember to keep the `for`, `in`, and `:` the same and make the body of the loop indented."
   ]
  },
  {
   "cell_type": "code",
   "execution_count": 6,
   "metadata": {},
   "outputs": [],
   "source": [
    "# Write a for loop here!"
   ]
  },
  {
   "cell_type": "markdown",
   "metadata": {},
   "source": [
    "#### Codebreaking!\n",
    "\n",
    "Computer depend on storing information is ways that humans cannot easily interpret (think ones and zeroes), but this information needs to be understood to be used.\n",
    "\n",
    "<img src=\"https://media.giphy.com/media/4H3Ii5eLChYul9p7NL/giphy.gif\" width=\"50%\"><p style=\"text-align: right;\">From: https://media.giphy.com/media/4H3Ii5eLChYul9p7NL/giphy.gif</p>"
   ]
  },
  {
   "cell_type": "markdown",
   "metadata": {},
   "source": [
    " We're going to decipher a code using a Python \"dictionary\", which works like a typical dictionary entry:"
   ]
  }
 ],
 "metadata": {
  "kernelspec": {
   "display_name": "Python 3",
   "language": "python",
   "name": "python3"
  },
  "language_info": {
   "codemirror_mode": {
    "name": "ipython",
    "version": 3
   },
   "file_extension": ".py",
   "mimetype": "text/x-python",
   "name": "python",
   "nbconvert_exporter": "python",
   "pygments_lexer": "ipython3",
   "version": "3.7.2"
  }
 },
 "nbformat": 4,
 "nbformat_minor": 2
}
