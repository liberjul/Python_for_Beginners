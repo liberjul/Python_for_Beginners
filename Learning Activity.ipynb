{
 "cells": [
  {
   "cell_type": "markdown",
   "metadata": {},
   "source": [
    "ISE 870 March 9 Activity - Julian Liber\n",
    "\n",
    "## Hello fellow students!\n",
    "### I'm going to show some coding basics in Python.\n",
    "\n",
    "<img src=\"https://media.giphy.com/media/LmNwrBhejkK9EFP504/giphy.gif\" width=50% alt=\"Cat typing at computer\"><p style=\"text-align: right;\">From: https://media.giphy.com/media/LmNwrBhejkK9EFP504/giphy.gif</p>\n",
    "\n",
    "#### This activity should teach you:\n",
    "- How to run code in a Jupyter Notebook\n",
    "- Basic operations in Python\n",
    "- What are loops and dictionaries\n",
    "- How to crack a coded message\n",
    "\n",
    "#### Let's get started\n",
    "\n",
    "This is a Jupyter Notebook, run using Google Colab. This means you do not need to download any software to your computer. This notebook is made of cells, which can be edited. This cell is in markdown format, while the one below is using code.\n",
    "\n",
    "To run a code cell in the notebook, click the cell and press Shift + Enter or Ctrl/Command + Enter. Do this for every cell with the `[ ]` on the left side.\n",
    "\n",
    "Try the next cell to see what happens."
   ]
  },
  {
   "cell_type": "code",
   "execution_count": null,
   "metadata": {},
   "outputs": [],
   "source": [
    "print(\"Hello World!\")"
   ]
  },
  {
   "cell_type": "markdown",
   "metadata": {},
   "source": [
    "If you did it correctly, you should see \"Hello World!\" printed below the cell and a number in brackets (`[1]`) to the left.\n",
    "\n",
    "You also just ran a function! `print(input)` will display the value of `input`.\n",
    "\n",
    "Now we can try the assignment operation, `=`.\n",
    "\n",
    "Additionally, any text after a `#` is ignored while running. This is called a \"comment\"."
   ]
  },
  {
   "cell_type": "code",
   "execution_count": null,
   "metadata": {},
   "outputs": [],
   "source": [
    "x = 10 # x will now equal ten."
   ]
  },
  {
   "cell_type": "markdown",
   "metadata": {},
   "source": [
    "Print the value of `x` by writing and executing code in the cell below."
   ]
  },
  {
   "cell_type": "code",
   "execution_count": null,
   "metadata": {},
   "outputs": [],
   "source": [
    "\n",
    "# Print the value of x"
   ]
  },
  {
   "cell_type": "markdown",
   "metadata": {},
   "source": [
    "#### What if we want the value of `x` to change as we run the code?\n",
    "\n",
    "Then we need to use a loop. A `for` loop will move through a group of \"objects\" and change the \"loop variable\" to each of the objects in that group. As an example, see below."
   ]
  },
  {
   "cell_type": "code",
   "execution_count": null,
   "metadata": {},
   "outputs": [],
   "source": [
    "for x in [1, 2, 3, 4]:\n",
    "    print(x)"
   ]
  },
  {
   "cell_type": "markdown",
   "metadata": {},
   "source": [
    "In this example, the loop variable `x` is equal to 1, 2, 3, and 4 in a sequence. The group of objects could also be a word or sentence, called a \"string\" in Python. In that case, each letter is an object."
   ]
  },
  {
   "cell_type": "code",
   "execution_count": null,
   "metadata": {},
   "outputs": [],
   "source": [
    "for letter in \"a very short sentence\":\n",
    "    print(letter)"
   ]
  },
  {
   "cell_type": "code",
   "execution_count": null,
   "metadata": {},
   "outputs": [],
   "source": [
    "# This also works with variables\n",
    "y = \"a very short sentence\"\n",
    "for letter in y:\n",
    "    print(letter)"
   ]
  },
  {
   "cell_type": "markdown",
   "metadata": {},
   "source": [
    "Try writing your own `for` loop to loop through the string `\"programming is fun!\"`. Remember to keep the `for`, `in`, and `:` the same and make the body of the loop indented."
   ]
  },
  {
   "cell_type": "code",
   "execution_count": null,
   "metadata": {},
   "outputs": [],
   "source": [
    "# Write a for loop here!"
   ]
  },
  {
   "cell_type": "markdown",
   "metadata": {},
   "source": [
    "#### Codebreaking!\n",
    "\n",
    "Computer depend on storing information is ways that humans cannot easily interpret (think ones and zeroes), but this information needs to be understood to be used.\n",
    "\n",
    "<img src=\"https://media.giphy.com/media/4H3Ii5eLChYul9p7NL/giphy.gif\" width=\"50%\" alt=\"Binary code waterfall\"><p style=\"text-align: right;\">From: https://media.giphy.com/media/4H3Ii5eLChYul9p7NL/giphy.gif</p>"
   ]
  },
  {
   "cell_type": "markdown",
   "metadata": {},
   "source": [
    " We're going to decipher a code using a Python \"dictionary\", which works like a typical dictionary entry:\n",
    " \n",
    "<img src=\"https://github.com/liberjul/Python_for_Beginners/blob/master/Dictionary_example.png?raw=true\" width=\"50%\" alt=\"The word being defined in the dictionary is the key, while the entry beneath is the value.\"><p style=\"text-align: right;\">From: Dictionary.com</p>"
   ]
  },
  {
   "cell_type": "code",
   "execution_count": null,
   "metadata": {},
   "outputs": [],
   "source": [
    "my_python_dict = {\"astronaut\" : \"a person engaged in or trainined for spaceflight\"}"
   ]
  },
  {
   "cell_type": "markdown",
   "metadata": {},
   "source": [
    "To look up the word astronaut, you can use the `[]` operation. Try below."
   ]
  },
  {
   "cell_type": "code",
   "execution_count": null,
   "metadata": {},
   "outputs": [],
   "source": [
    "print(my_python_dict[\"astronaut\"])"
   ]
  },
  {
   "cell_type": "markdown",
   "metadata": {},
   "source": [
    "This dictionary contains a set of keys and values to decipher the coded message."
   ]
  },
  {
   "cell_type": "code",
   "execution_count": null,
   "metadata": {},
   "outputs": [],
   "source": [
    "# Run me!\n",
    "code_dict = {'g': 'a', '?': 'b','p': 'c','t': 'd','.': 'e','v': 'f','i': 'g','c': 'h',\n",
    "             'l': 'i','!': 'j','d': 'k','e': 'l','j': 'm','u': 'n','o': 'o','n': 'p',\n",
    "             ' ': 'q','r': 'r','h': 't','z': 'u','b': 'v','q': 'w','x': 'x','f': 'y',\n",
    "             'y': 'z','a': ' ','m': '!','w': '?','k': '.'}"
   ]
  },
  {
   "cell_type": "code",
   "execution_count": null,
   "metadata": {},
   "outputs": [],
   "source": [
    "secret_message = \"lacon.afoza.u!of.tae.gruluiahoapot.ahotgfm\""
   ]
  },
  {
   "cell_type": "markdown",
   "metadata": {},
   "source": [
    "#### Try to decipher the message in the code cell below!"
   ]
  },
  {
   "cell_type": "code",
   "execution_count": null,
   "metadata": {},
   "outputs": [],
   "source": [
    "# Use a for loop to move through each letter of the secret message,\n",
    "# and print out the dictionary \"value\" for each letter \"key\""
   ]
  },
  {
   "cell_type": "markdown",
   "metadata": {},
   "source": [
    "### You did it! Now you are well on your way to learning how to use Python to solve problems and make tasks easier!"
   ]
  },
  {
   "cell_type": "markdown",
   "metadata": {},
   "source": [
    "How might you use these skills in your work?"
   ]
  }
 ],
 "metadata": {
  "kernelspec": {
   "display_name": "Python 3",
   "language": "python",
   "name": "python3"
  },
  "language_info": {
   "codemirror_mode": {
    "name": "ipython",
    "version": 3
   },
   "file_extension": ".py",
   "mimetype": "text/x-python",
   "name": "python",
   "nbconvert_exporter": "python",
   "pygments_lexer": "ipython3",
   "version": "3.7.2"
  }
 },
 "nbformat": 4,
 "nbformat_minor": 2
}
