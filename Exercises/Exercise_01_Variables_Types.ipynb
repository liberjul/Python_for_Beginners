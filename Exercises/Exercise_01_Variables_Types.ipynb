{
 "cells": [
  {
   "cell_type": "markdown",
   "metadata": {},
   "source": [
    "Python for Beginners Exercise 1: Variables and Types\n",
    "\n",
    "Made by: Julian Liber\n",
    "\n",
    "Date Created: 03/15/2020\n",
    "\n",
    "## Hello Everyone!\n",
    "### I'm going to show some coding basics in Python.\n",
    "\n",
    "<img src=\"https://media.giphy.com/media/LmNwrBhejkK9EFP504/giphy.gif\" width=50% alt=\"Cat typing at computer\"><p style=\"text-align: right;\">From: https://media.giphy.com/media/LmNwrBhejkK9EFP504/giphy.gif</p>\n",
    "\n",
    "#### This activity should teach you:\n",
    "- How to run code in a Jupyter Notebook\n",
    "- What is Python?\n",
    "- What is a variable?\n",
    "- What are the data types in Python?\n",
    "- What are operations in Python?\n",
    "\n",
    "\n",
    "#### Let's get started\n",
    "\n",
    "This is a Jupyter Notebook. It allows for running code easily in your browser. If it is run using Google Colab, you will not have to download anything to your computer, but it is good to know how to use your own device.\n",
    "\n",
    "This notebook is made of cells, which can be edited. This cell is in markdown format, while the one below is using code.\n",
    "\n",
    "To run a code cell in the notebook, click the cell and press Shift + Enter or Ctrl/Command + Enter. Do this for every cell with the `[ ]` on the left side.\n",
    "\n",
    "Try the next cell to see what happens."
   ]
  },
  {
   "cell_type": "code",
   "execution_count": null,
   "metadata": {},
   "outputs": [],
   "source": [
    "print(\"Hello World!\")"
   ]
  },
  {
   "cell_type": "markdown",
   "metadata": {},
   "source": [
    "Python is a coding language that is useful for a variety of tasks. I use it for reading and writing files, handling image data, and for machine learning tasks, but it is very helpful for all sorts of tasks.\n",
    "\n",
    "Like any language, Python has specific syntax and rules for its use. Learning these will be the main task, while specifics are often looked up.\n",
    "\n",
    "Briefly, a _function_, such as `print()`, takes an input, and does something. These will be discussed more later. \n",
    "\n",
    "#### Variables\n",
    "\n",
    "A varible is identified by a _name_, which is associated with a _value_. The value is stored at an _address_, but we do not need to think about the address in Python.\n",
    "\n",
    "We _assign_ a variable using the equals sign (`=`). The equals sign here is an _operator_, or a symbol with a specific action.\n",
    "\n",
    "Any text after a `#` will be ignored. These are called _comments_.\n",
    "\n",
    "Variable names have some rules, but Jupyter will highlight part/all of the variable name if it is invalid."
   ]
  },
  {
   "cell_type": "code",
   "execution_count": null,
   "metadata": {},
   "outputs": [],
   "source": [
    "# Assign the value 10 to the variable x\n",
    "# Run this cell by pressing Ctrl+Enter, Command+Enter, or Shift+Enter. \n",
    "# Shift+Enter will advance to the next cell.\n",
    "x = 10"
   ]
  },
  {
   "cell_type": "markdown",
   "metadata": {},
   "source": [
    "You can display the value of a varible by using the function `print()`, or by just writing the variable at the end of the cell and running that cell. Try the below cells:"
   ]
  },
  {
   "cell_type": "code",
   "execution_count": null,
   "metadata": {},
   "outputs": [],
   "source": [
    "print(x)"
   ]
  },
  {
   "cell_type": "code",
   "execution_count": null,
   "metadata": {},
   "outputs": [],
   "source": [
    "x"
   ]
  },
  {
   "cell_type": "markdown",
   "metadata": {},
   "source": [
    "##### Do This:\n",
    "1. Assign a value to a variable name\n",
    "2. Display the value of the variable\n",
    "\n",
    "If you want more cells, use the toolbar at the top to press the `+` symbol."
   ]
  },
  {
   "cell_type": "code",
   "execution_count": null,
   "metadata": {},
   "outputs": [],
   "source": [
    "# Write your answer here"
   ]
  },
  {
   "cell_type": "markdown",
   "metadata": {},
   "source": [
    "#### Data Types\n",
    "\n",
    "There are different kinds of data we may want to work with, primarily:\n",
    "\n",
    "- Numbers\n",
    "- Characters/text\n",
    "\n",
    "While all values are stored as zeroes and ones, data types can make interfacing with data easier and more intuitive.\n",
    "\n",
    "The two main types of number data types are `int` (short for integer) and `float`.\n",
    "\n",
    "Integers are whole numbers, positive or negative, while floats have values after the decimal point."
   ]
  },
  {
   "cell_type": "code",
   "execution_count": null,
   "metadata": {},
   "outputs": [],
   "source": [
    "my_int = 15 # An example integer\n",
    "\n",
    "my_float = 3.179207 # An example float"
   ]
  },
  {
   "cell_type": "markdown",
   "metadata": {},
   "source": [
    "Where might we want to use integers, as opposed to floating point values?\n",
    "\n",
    "(put your answer here by double clicking the cell, changing text, and pressing Shift + Enter)"
   ]
  },
  {
   "cell_type": "markdown",
   "metadata": {},
   "source": [
    "You can check the type using the function `type()`. \n",
    "\n",
    "While other languages expect you to specify the type when create a variable, Python can usually assume the type.\n",
    "\n",
    "You can also change the type of a variable, using the type name as a function, such as `int()` or `float()`. When converting a `float` to an `int`, sometimes information is lost because everything after the decimal point is dropped."
   ]
  },
  {
   "cell_type": "code",
   "execution_count": null,
   "metadata": {},
   "outputs": [],
   "source": [
    "type(my_int) # Check the type of the variable"
   ]
  },
  {
   "cell_type": "code",
   "execution_count": null,
   "metadata": {},
   "outputs": [],
   "source": [
    "print(float(my_int)) # Convert to a float\n",
    "print(int(my_float)) # Convert to an int"
   ]
  },
  {
   "cell_type": "markdown",
   "metadata": {},
   "source": [
    "##### String data\n",
    "\n",
    "String are how text is stored, from single characters to many.\n",
    "\n",
    "Strings are included in quotes, either single (`''`) or double (`\"\"`) without preference."
   ]
  },
  {
   "cell_type": "code",
   "execution_count": null,
   "metadata": {},
   "outputs": [],
   "source": [
    "my_string = \"im a string!\""
   ]
  },
  {
   "cell_type": "code",
   "execution_count": null,
   "metadata": {},
   "outputs": [],
   "source": [
    "my_string"
   ]
  },
  {
   "cell_type": "code",
   "execution_count": null,
   "metadata": {},
   "outputs": [],
   "source": [
    "# Sometimes you can convert strings to numbers\n",
    "int(\"10\")"
   ]
  },
  {
   "cell_type": "markdown",
   "metadata": {},
   "source": [
    "#### Operatations\n",
    "\n",
    "Now that we have data, what should we do with it?\n",
    "\n",
    "Operations are how we can manipulate data. Some of these are simple math:\n",
    "\n",
    "- Add (`+`)\n",
    "- Subtract (`-`)\n",
    "- Multiply (`*`)\n",
    "- Divide (`/`)\n",
    "- Power (`**`)\n",
    "- Modulus/Remainder (`%`)\n",
    "\n",
    "Python will follow order of operations, an may convert integers to floats."
   ]
  },
  {
   "cell_type": "code",
   "execution_count": null,
   "metadata": {},
   "outputs": [],
   "source": [
    "(5-2)/(6+3)*6"
   ]
  },
  {
   "cell_type": "code",
   "execution_count": null,
   "metadata": {},
   "outputs": [],
   "source": [
    "2**6"
   ]
  },
  {
   "cell_type": "code",
   "execution_count": null,
   "metadata": {},
   "outputs": [],
   "source": [
    "11 % 10"
   ]
  },
  {
   "cell_type": "markdown",
   "metadata": {},
   "source": [
    "Other operations can be logical operations, such as `and` and `or`."
   ]
  },
  {
   "cell_type": "code",
   "execution_count": null,
   "metadata": {},
   "outputs": [],
   "source": [
    "1 and 0"
   ]
  },
  {
   "cell_type": "code",
   "execution_count": null,
   "metadata": {},
   "outputs": [],
   "source": [
    "1 or 0"
   ]
  },
  {
   "cell_type": "code",
   "execution_count": null,
   "metadata": {},
   "outputs": [],
   "source": [
    "0 and 0"
   ]
  },
  {
   "cell_type": "code",
   "execution_count": null,
   "metadata": {},
   "outputs": [],
   "source": [
    "1 and 1"
   ]
  },
  {
   "cell_type": "markdown",
   "metadata": {},
   "source": [
    "Similarly, you can perform comparison, such as equal to (`==`), less than (`<`), greater than or equal to (`>=`)"
   ]
  },
  {
   "cell_type": "code",
   "execution_count": null,
   "metadata": {},
   "outputs": [],
   "source": [
    "50 >= 54"
   ]
  },
  {
   "cell_type": "code",
   "execution_count": null,
   "metadata": {},
   "outputs": [],
   "source": [
    "3 == 3"
   ]
  },
  {
   "cell_type": "code",
   "execution_count": null,
   "metadata": {},
   "outputs": [],
   "source": [
    "40 < 80"
   ]
  },
  {
   "cell_type": "markdown",
   "metadata": {},
   "source": [
    "With strings, you can perform some operations but not others. For example `+` will concatenate strings, and `==` will show if the strings are the same."
   ]
  },
  {
   "cell_type": "code",
   "execution_count": null,
   "metadata": {},
   "outputs": [],
   "source": [
    "\"the first part\" + \" and \" + \"the second part\""
   ]
  },
  {
   "cell_type": "code",
   "execution_count": null,
   "metadata": {},
   "outputs": [],
   "source": [
    "\"this word\" == \"this word\""
   ]
  },
  {
   "cell_type": "markdown",
   "metadata": {},
   "source": [
    "### Thanks for doing Exercise 1!\n",
    "\n",
    "#### More will follow soon!"
   ]
  }
 ],
 "metadata": {
  "kernelspec": {
   "display_name": "Python 3",
   "language": "python",
   "name": "python3"
  },
  "language_info": {
   "codemirror_mode": {
    "name": "ipython",
    "version": 3
   },
   "file_extension": ".py",
   "mimetype": "text/x-python",
   "name": "python",
   "nbconvert_exporter": "python",
   "pygments_lexer": "ipython3",
   "version": "3.7.2"
  }
 },
 "nbformat": 4,
 "nbformat_minor": 2
}
