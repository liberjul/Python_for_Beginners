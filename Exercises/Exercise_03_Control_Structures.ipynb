{
 "cells": [
  {
   "cell_type": "markdown",
   "metadata": {},
   "source": [
    "Python for Beginners Exercise 3: Control Structures\n",
    "\n",
    "Made by: Julian Liber\n",
    "\n",
    "Date Created: 03/16/2020\n",
    "\n",
    "## Hello Everyone!\n",
    "\n",
    "#### This activity should teach you:\n",
    "- What are control structures\n",
    "- How to use `if`/`elif`/`else` (decision) structures\n",
    "- What a loop is\n",
    "- What is the difference between `while` and `for` loops\n",
    "\n",
    "<img src=\"https://media.giphy.com/media/pt0EKLDJmVvlS/giphy.gif\" width=50% alt=\"Hulahoop\"><p style=\"text-align: right;\">From: https://giphy.com/embed/pt0EKLDJmVvlS</p>\n",
    "\n",
    "\n",
    "As you run a program, you may want to make decisions or repeat code. Control structures allow you to guide the progression through the code.\n",
    "\n",
    "Decision structures are important for dealing with:\n",
    "- Situations with multiple inputs (data, function arguments)\n",
    "- Iterative processes\n",
    "\n",
    "There are three keywords to know: `if`, `else`, and `elif`.\n",
    "\n",
    "All decision structures begin with an `if` header. The `if` keyword is followed by a boolean expression. _If the boolean is true_, the body is run."
   ]
  },
  {
   "cell_type": "code",
   "execution_count": null,
   "metadata": {},
   "outputs": [],
   "source": [
    "my_num = 1 # Try changing this number and rerunning the code\n",
    "if my_num > 0:\n",
    "    print(my_num)"
   ]
  },
  {
   "cell_type": "markdown",
   "metadata": {},
   "source": [
    "After the initial header, an `else` statement or `elif` (short for `else if`) can be added.\n",
    "\n",
    "`elif` also has a boolean expression, while `else` does not."
   ]
  },
  {
   "cell_type": "code",
   "execution_count": null,
   "metadata": {},
   "outputs": [],
   "source": [
    "my_num = 5\n",
    "if my_num > 3:\n",
    "    print(my_num * 2)\n",
    "elif my_num > 1 and my_num < 3:\n",
    "    print(my_num + 4)\n",
    "else:\n",
    "    print(my_num**2)"
   ]
  },
  {
   "cell_type": "markdown",
   "metadata": {},
   "source": [
    "Because boolean expressions are evaluated from left to right, a check can be conducted to avoid an error."
   ]
  },
  {
   "cell_type": "code",
   "execution_count": null,
   "metadata": {},
   "outputs": [],
   "source": [
    "my_num = \"im not a number\"\n",
    "if type(my_num) != str and my_num > 7:\n",
    "    print(my_num*4)"
   ]
  },
  {
   "cell_type": "code",
   "execution_count": null,
   "metadata": {},
   "outputs": [],
   "source": [
    "# This will cause an error\n",
    "my_num = \"im not a number\"\n",
    "if my_num > 7 and type(my_num) != str:\n",
    "    print(my_num*4)"
   ]
  },
  {
   "cell_type": "markdown",
   "metadata": {},
   "source": [
    "### Loops\n",
    "\n",
    "Loops are as they sound: doing the same thing multiple times.\n",
    "\n",
    "Loops come in two primary types: `while` and `for`.\n",
    "\n",
    "`while` loops do something _while a condition is true_.\n",
    "\n",
    "`for` loops do something a _for a given number of times_.\n",
    "\n",
    "#### While loops\n",
    "\n",
    "Both types of loops have a header. For a while loop, it includes a boolean expression:"
   ]
  },
  {
   "cell_type": "code",
   "execution_count": null,
   "metadata": {},
   "outputs": [],
   "source": [
    "my_num = 0\n",
    "while my_num < 10:\n",
    "    print(my_num)\n",
    "    my_num += 1 # Same as my_num = my_num + 1"
   ]
  },
  {
   "cell_type": "markdown",
   "metadata": {},
   "source": [
    "**Be careful with your `while` loops!** They can run without stop if the condition is never satisfied. If this happens, use the square at the top of the page to stop the code from running.\n",
    "\n",
    "#### Do This:\n",
    "Write a `while` loop to print powers of 2 up to 2^10."
   ]
  },
  {
   "cell_type": "code",
   "execution_count": null,
   "metadata": {},
   "outputs": [],
   "source": []
  },
  {
   "cell_type": "markdown",
   "metadata": {},
   "source": [
    "#### For loops\n",
    "\n",
    "A for loop header is a bit more complicated.\n",
    "\n",
    "It includes the `for` keyword, a _loop variable_ (often `i`), the `in` keyword, and an _iterable_.\n",
    "\n",
    "`for i in my_iterable:`\n",
    "\n",
    "An iterable can be any sequence type, such as a list, string, tuple, array, or some special types.\n",
    "\n",
    "The keywords `range`, `zip`, and `enumerate` can be used to make iterables.\n",
    "\n",
    "As the loop runs, in each iteration the loop variable changes to the next value in the iterable."
   ]
  },
  {
   "cell_type": "code",
   "execution_count": null,
   "metadata": {},
   "outputs": [],
   "source": [
    "for i in [0, 1, 2, 3, 4]:\n",
    "    print(i)"
   ]
  },
  {
   "cell_type": "code",
   "execution_count": null,
   "metadata": {},
   "outputs": [],
   "source": [
    "for i in range(0, 5): # The second argument for range is one after the value returned\n",
    "    print(i)"
   ]
  },
  {
   "cell_type": "code",
   "execution_count": null,
   "metadata": {},
   "outputs": [],
   "source": [
    "for letter in \"string\":\n",
    "    print(letter)"
   ]
  },
  {
   "cell_type": "markdown",
   "metadata": {},
   "source": [
    "#### Do This: Combine loops and decision structures\n",
    "\n",
    "Iterate through the numbers 0 to 10, inclusive.\n",
    "\n",
    "If a number is less than 5, multiple by 5.\n",
    "\n",
    "Else if the number is greater than 5 and less than 8, divide by 2.\n",
    "\n",
    "Otherwise, substract 10.\n",
    "\n",
    "Print out each result of the operation."
   ]
  },
  {
   "cell_type": "code",
   "execution_count": null,
   "metadata": {},
   "outputs": [],
   "source": []
  },
  {
   "cell_type": "markdown",
   "metadata": {},
   "source": [
    "### Thanks for doing Exercise 3!\n",
    "\n",
    "#### More will follow soon!"
   ]
  }
 ],
 "metadata": {
  "kernelspec": {
   "display_name": "Python 3",
   "language": "python",
   "name": "python3"
  },
  "language_info": {
   "codemirror_mode": {
    "name": "ipython",
    "version": 3
   },
   "file_extension": ".py",
   "mimetype": "text/x-python",
   "name": "python",
   "nbconvert_exporter": "python",
   "pygments_lexer": "ipython3",
   "version": "3.7.2"
  }
 },
 "nbformat": 4,
 "nbformat_minor": 2
}
