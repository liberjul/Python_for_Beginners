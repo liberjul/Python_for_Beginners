{
 "cells": [
  {
   "cell_type": "markdown",
   "metadata": {},
   "source": [
    "Python for Beginners Exercise 4: Input/Output with text\n",
    "\n",
    "Made by: Julian Liber\n",
    "\n",
    "Date Created: 03/16/2020\n",
    "\n",
    "## Hello Everyone!\n",
    "\n",
    "\n",
    "#### This activity should teach you:\n",
    "- How to read and write files\n",
    "- What \"parsing\" is\n",
    "- Basic methods for data input\n",
    "\n",
    "<img src=\"https://imgs.xkcd.com/comics/exploits_of_a_mom.png\" width=100% alt=\"Hulahoop\"><p style=\"text-align: right;\">From: https://imgs.xkcd.com/comics/exploits_of_a_mom.png</p>\n",
    "\n",
    "Reading and writing data is a critical task for bioinformatics. There are many methods for this, but I'll introduce some of the basic ones.\n",
    "\n",
    "#### Read a human-readable text file\n",
    "\n",
    "The cleanest way to do this in base Python uses the `with`, `open`, and `as` keywords.\n",
    "\n",
    "The header looks like this:\n",
    "\n",
    "` with open(\"my_file.txt\", \"r\") as infile:`\n",
    "\n",
    "After operations are performed on the file, this closes it properly. With the `open()` function, `\"r\"` indicates to read the file, while `\"w\"` means write. There are other arguments which you may also use.\n",
    "\n",
    "In the body of this structure, infile is an _object_, with attributes and methods.\n",
    "\n",
    "We are going to use a FASTA file to read in."
   ]
  },
  {
   "cell_type": "code",
   "execution_count": null,
   "metadata": {},
   "outputs": [],
   "source": [
    "my_filename = \"3Yad CW 3A_ITS1f_E01.fasta\"\n",
    "with open(my_filename, \"r\") as infile:\n",
    "    line = infile.readline()  # Read one line\n",
    "    while line != \"\": # Read until end of file is reached\n",
    "        print(line)\n",
    "        line = infile.readline() # Read the next line in the file"
   ]
  },
  {
   "cell_type": "code",
   "execution_count": null,
   "metadata": {},
   "outputs": [],
   "source": [
    "my_filename = \"3Yad CW 3A_ITS1f_E01.fasta\"\n",
    "with open(my_filename, \"r\") as infile:\n",
    "    lines = infile.readlines()  # Read all lines an an iterable\n",
    "    for line in lines: # Iterate though all lines\n",
    "        print(line)"
   ]
  },
  {
   "cell_type": "markdown",
   "metadata": {},
   "source": [
    "Why might we use one of these techniques over the other?\n",
    "\n",
    "The `while` loop only has one line in memory at a time, which can be good for large files. However, realistically you will probably not have to deal this for human readable text file.\n",
    "\n",
    "Comparitively, the `for` loop has fewer lines to write, so it may simplify your code.\n",
    "\n",
    "#### Output of text files\n",
    "\n",
    "In order to write files, we use a very similar `with` header, changing the second argument to `open()`\n",
    "\n",
    "`with open(\"my_file.txt\", \"w\") as outfile:`\n",
    "\n",
    "Then, all we need is `outfile.write()` to write to the file."
   ]
  },
  {
   "cell_type": "code",
   "execution_count": null,
   "metadata": {},
   "outputs": [],
   "source": [
    "my_filename = \"example_outfile.txt\"\n",
    "with open(my_filename, \"w\") as outfile:\n",
    "    for i in range(10):\n",
    "        outfile.write(str(i) + \"\\n\") # convert the number to a string, add an end-line character (\\n)"
   ]
  },
  {
   "cell_type": "markdown",
   "metadata": {},
   "source": [
    "If writing many lines to a file, it can be helpful to write multiple line to a string called a _buffer_, then outputing to a file. This can save time, but requires more memory."
   ]
  },
  {
   "cell_type": "code",
   "execution_count": null,
   "metadata": {},
   "outputs": [],
   "source": [
    "my_filename = \"example_outfile.txt\"\n",
    "buffer = \"\" # empty string to store values\n",
    "for i in range(10):\n",
    "        buffer += str(i) + \"\\n\" # convert the number to a string, add an end-line character (\\n)\n",
    "with open(my_filename, \"w\") as outfile:\n",
    "    outfile.write(buffer)"
   ]
  },
  {
   "cell_type": "markdown",
   "metadata": {},
   "source": [
    "A useful tool for writing to files is called string formatting, which in Python 3.6+ can look like this:\n",
    "\n",
    "`F\"My number: {i}\\n\"`"
   ]
  },
  {
   "cell_type": "code",
   "execution_count": null,
   "metadata": {},
   "outputs": [],
   "source": [
    "my_filename = \"example_outfile.txt\"\n",
    "buffer = \"\" # empty string to store values\n",
    "for i in range(10):\n",
    "        buffer += F\"My number is: {i}\\n\" # convert the number to a string, add an end-line character (\\n)\n",
    "with open(my_filename, \"w\") as outfile:\n",
    "    outfile.write(buffer)"
   ]
  },
  {
   "cell_type": "markdown",
   "metadata": {},
   "source": [
    "#### Do This:\n",
    "\n",
    "Read in the FASTA file, and store the name (FASTA header) and sequence as two separate strings.\n",
    "\n",
    "Each line contains an end-of-line character (`\\n`) at the end of each line. You can use the `string.strip()` method to remove this character. Other string methods such as `split()` and `join()` are often useful.\n",
    "\n",
    "Bonus:\n",
    "\n",
    "If you feel ambitious, try store multiple FASTA files in a dictionary, with the headers as keys and sequences as values."
   ]
  },
  {
   "cell_type": "code",
   "execution_count": null,
   "metadata": {},
   "outputs": [],
   "source": []
  },
  {
   "cell_type": "markdown",
   "metadata": {},
   "source": [
    "### Pandas data handling\n",
    "\n",
    "<img src=\"https://media.giphy.com/media/EatwJZRUIv41G/giphy.gif\" width=70% alt=\"Hulahoop\"><p style=\"text-align: right;\">From: https://media.giphy.com/media/EatwJZRUIv41G/giphy.gif</p>\n",
    "\n",
    "Pandas is a package which contains a datatype you are likely already familiar with: dataframes. These are ubiquitous in R stats, and are kinda like a spreadsheet, but without interactivity.\n",
    "\n",
    "Let's import `pandas`, using `pd` as the conventional name."
   ]
  },
  {
   "cell_type": "code",
   "execution_count": null,
   "metadata": {},
   "outputs": [],
   "source": [
    "import pandas as pd"
   ]
  },
  {
   "cell_type": "markdown",
   "metadata": {},
   "source": [
    "Typically the data will be a CSV (`.csv`) file, which stands for comma-separated value file. However, any file with column separated by a character can be used (some `.txt`, `.tsv` files).\n",
    "\n",
    "I've included an example file, called `Water backups master.csv`."
   ]
  },
  {
   "cell_type": "code",
   "execution_count": null,
   "metadata": {},
   "outputs": [],
   "source": [
    "csv_file = \"Water backups master.csv\"\n",
    "data = pd.read_csv(csv_file)"
   ]
  },
  {
   "cell_type": "code",
   "execution_count": null,
   "metadata": {},
   "outputs": [],
   "source": [
    "data.head() # Display first 5 rows"
   ]
  },
  {
   "cell_type": "markdown",
   "metadata": {},
   "source": [
    "Each column can be accessed using bracket notation:\n",
    "\n",
    "`data[\"Name\"]`\n",
    "\n",
    "If the column name is a single word, dot notation can be used:\n",
    "\n",
    "`data.Genus`\n",
    "\n",
    "While a column is a pandas.Series type, it generally acts like a np.array.\n",
    "\n",
    "The pandas.Series has methods that are worth exploring, such as `value_counts()` as shown below.\n",
    "\n",
    "The [Pandas Cheat Sheet](https://pandas.pydata.org/Pandas_Cheat_Sheet.pdf) is an excellent resource for this package.\n"
   ]
  },
  {
   "cell_type": "code",
   "execution_count": null,
   "metadata": {},
   "outputs": [],
   "source": [
    "data.Genus.value_counts()"
   ]
  },
  {
   "cell_type": "markdown",
   "metadata": {},
   "source": [
    "#### Do This:\n",
    "\n",
    "Find a spreadsheet you might be interested in using in Python. Import the data, and use some method from pandas to find something interesting."
   ]
  },
  {
   "cell_type": "code",
   "execution_count": null,
   "metadata": {},
   "outputs": [],
   "source": []
  },
  {
   "cell_type": "markdown",
   "metadata": {},
   "source": [
    "### Thanks for doing Exercise 3!\n",
    "\n",
    "#### More will follow soon!"
   ]
  },
  {
   "cell_type": "code",
   "execution_count": null,
   "metadata": {},
   "outputs": [],
   "source": []
  }
 ],
 "metadata": {
  "kernelspec": {
   "display_name": "Python 3",
   "language": "python",
   "name": "python3"
  },
  "language_info": {
   "codemirror_mode": {
    "name": "ipython",
    "version": 3
   },
   "file_extension": ".py",
   "mimetype": "text/x-python",
   "name": "python",
   "nbconvert_exporter": "python",
   "pygments_lexer": "ipython3",
   "version": "3.7.2"
  }
 },
 "nbformat": 4,
 "nbformat_minor": 2
}
