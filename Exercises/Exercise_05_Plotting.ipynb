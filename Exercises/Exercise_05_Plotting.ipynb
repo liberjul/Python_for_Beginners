{
 "cells": [
  {
   "cell_type": "markdown",
   "metadata": {},
   "source": [
    "Python for Beginners Exercise 5: Plotting\n",
    "\n",
    "Made by: Julian Liber\n",
    "\n",
    "Date Created: 03/16/2020\n",
    "\n",
    "## Hello Everyone!\n",
    "\n",
    "\n",
    "#### This activity should teach you:\n",
    "- How to use matplotlib\n",
    "- Some basic plotting with histograms and scatterplots\n",
    "\n",
    "Python is great for a lot of things, some of which you may want to plot!\n",
    "\n",
    "I don't generally use Python plotting to present data, but it can be useful during your data analysis to ensure that everything looks right.\n",
    "\n",
    "The preferred library for this is Matplotlib:\n",
    "\n",
    "<img src=\"https://matplotlib.org/_static/logo2.svg\" width=80% alt=\"Hulahoop\"><p style=\"text-align: right;\">From: https://matplotlib.org/_static/logo2.svg</p>\n",
    "\n",
    "Generally, this works by importing `matplotlib.pyplot`, `numpy`, and `pandas`. Because we are using Jupyter/IPython, we need and additional \"magic\" function: `%matplotlib inline`"
   ]
  },
  {
   "cell_type": "code",
   "execution_count": null,
   "metadata": {},
   "outputs": [],
   "source": [
    "import pandas as pd\n",
    "import numpy as np\n",
    "import matplotlib.pyplot as plt\n",
    "%matplotlib inline"
   ]
  },
  {
   "cell_type": "markdown",
   "metadata": {},
   "source": [
    "Let's read in some data: `tip_tracking_speed_data.csv`"
   ]
  },
  {
   "cell_type": "code",
   "execution_count": null,
   "metadata": {},
   "outputs": [],
   "source": [
    "data = pd.read_csv(\"tip_tracking_speed_data.csv\")\n",
    "data.head()"
   ]
  },
  {
   "cell_type": "markdown",
   "metadata": {},
   "source": [
    "For our first plot, we can make a histogram to show the distribution of our `Speed` variable."
   ]
  },
  {
   "cell_type": "code",
   "execution_count": null,
   "metadata": {},
   "outputs": [],
   "source": [
    "plt.hist(data.Speed)"
   ]
  },
  {
   "cell_type": "markdown",
   "metadata": {},
   "source": [
    "We can make this more readable, by adding axes labels, a title, and transforming the scale."
   ]
  },
  {
   "cell_type": "code",
   "execution_count": null,
   "metadata": {},
   "outputs": [],
   "source": [
    "plt.hist(np.log10(data.Speed), bins = 30)\n",
    "plt.xlabel(\"Speed (Log 10 um/min)\")\n",
    "plt.ylabel(\"Count\")\n",
    "plt.title(\"Tip speed distribution\")"
   ]
  },
  {
   "cell_type": "markdown",
   "metadata": {},
   "source": [
    "Now we can compare a single variable over time, in this case median tip speed for each frame. Here we can either include both `x` and `y` variables, or just `y` and x will be the index (in this case the index will be the same as time."
   ]
  },
  {
   "cell_type": "code",
   "execution_count": null,
   "metadata": {},
   "outputs": [],
   "source": [
    "time_grouped = data.groupby(\"Time\") # Each frame will have the same time from start\n",
    "median_data = time_grouped.median() # Take the median, because the distribution is right-skewed\n",
    "plt.plot(median_data.Speed, label=\"Median Speed\") # Plot median speed over time\n",
    "plt.legend()\n",
    "plt.xlabel(\"Time since start (min)\")\n",
    "plt.ylabel(\"Speed (um/min)\")\n",
    "plt.title(\"Tip speed over time\")"
   ]
  },
  {
   "cell_type": "markdown",
   "metadata": {},
   "source": [
    "We can also make scatterplots, most easily by using the `plt.scatter()` function. Here, we are displaying the directions of individual tip movements, which fall on a unit circle."
   ]
  },
  {
   "cell_type": "code",
   "execution_count": null,
   "metadata": {},
   "outputs": [],
   "source": [
    "plt.scatter(x = data.X_component, y = data.Y_component, alpha=0.1)\n",
    "plt.axis(\"square\"); # Make the circle circular, adding the \";\" cleans up the output."
   ]
  },
  {
   "cell_type": "markdown",
   "metadata": {},
   "source": [
    "While there are many more ways to plot with matplotlib (see the [gallery](https://matplotlib.org/gallery/index.html)), I would still recommend the functionality in R stats for plotting.\n",
    "\n",
    "### Thanks for doing Exercise 5!\n",
    "\n",
    "#### More will follow soon!"
   ]
  }
 ],
 "metadata": {
  "kernelspec": {
   "display_name": "Python 3",
   "language": "python",
   "name": "python3"
  },
  "language_info": {
   "codemirror_mode": {
    "name": "ipython",
    "version": 3
   },
   "file_extension": ".py",
   "mimetype": "text/x-python",
   "name": "python",
   "nbconvert_exporter": "python",
   "pygments_lexer": "ipython3",
   "version": "3.7.2"
  }
 },
 "nbformat": 4,
 "nbformat_minor": 2
}
