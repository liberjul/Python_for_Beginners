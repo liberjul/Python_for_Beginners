{
 "cells": [
  {
   "cell_type": "markdown",
   "metadata": {},
   "source": [
    "Python for Beginners Exercise 2: Sructures and Functions\n",
    "\n",
    "Made by: Julian Liber\n",
    "\n",
    "Date Created: 03/16/2020\n",
    "\n",
    "## Hello Everyone!\n",
    "\n",
    "#### This activity should teach you:\n",
    "- How to import packages/modules/libraries\n",
    "- What are structures such as strings, lists, tuples, sets, and dictionaries\n",
    "- Why might you use certain structures?\n",
    "- What is a function\n",
    "- How do you write a function\n",
    "\n",
    "Just as biology is often focused on the relation of structure and function, programming relies on both these critical parts.\n",
    "\n",
    "Also Python benefits from extensive outside resources, called packages, modules, or libraries. These can provide some impressive functionality, but probably won't make you fly.\n",
    "\n",
    "<img src=\"https://imgs.xkcd.com/comics/python.png\" width=50% alt=\"Python comic\"><p style=\"text-align: right;\">From: https://imgs.xkcd.com/comics/python.png</p>\n",
    "\n",
    "Ignore the syntax for `print \"Hello, world!\"`, the comic is written for Python 2 but we're using Python 3.\n",
    "\n",
    "### Structures\n",
    "\n",
    "Data structures are a way of organizing data and how to access it. I'll talk about these structures:\n",
    "\n",
    "- Strings (we've already talked about these, but not as structures)\n",
    "- Lists\n",
    "- Dictionaries\n",
    "- Numpy arrays\n",
    "\n",
    "Each structure has _attributes_ and _methods_, which can be accessed by dot notation, or by functions.\n",
    "\n",
    "Attributes are something about a structure, while methods are something it can do. Methods have parentheses `()`, while attributes do not. If something doesn't work, try adding or removing parentheses.\n",
    "\n",
    "Some structures also have indexing using square brackets `[]`, which allows for accessing data by its position or keyword.\n",
    "\n",
    "#### Strings\n",
    "\n",
    "A string of characters has a length, which can be determined using `len()`.\n",
    "\n",
    "We can also use methods such as `count()`, which shows how many times a shorter string occurs within the string.\n",
    "\n",
    "To index the string, a number corresponding the the position is used (starting at 0)\n",
    "\n",
    "Strings are _immutable_, in that string cannot be changed."
   ]
  },
  {
   "cell_type": "code",
   "execution_count": null,
   "metadata": {},
   "outputs": [],
   "source": [
    "my_string = \"ATAAATAAAATTAACTAATTTTGCCCGGGAGGAACTTGGATCTGAGCCACCCACTCAACTAAATTTTGAT\"\n",
    "print(len(my_string)) # the length of the string\n",
    "print(my_string.count(\"ATT\")) # how many times \"ATT\" shows up in my_string\n",
    "print(my_string[0]) # first character"
   ]
  },
  {
   "cell_type": "code",
   "execution_count": null,
   "metadata": {},
   "outputs": [],
   "source": [
    "# This doesn't work because strings are immutable\n",
    "my_string[10] = \"T\""
   ]
  },
  {
   "cell_type": "markdown",
   "metadata": {},
   "source": [
    "#### Lists\n",
    "\n",
    "Lists are a collection of _elements_ which are arranged in order, and can be of **any type**.\n",
    "\n",
    "They are designated using square brackets, with elements seperated by commas.\n",
    "\n",
    "Lists are mutable, and have many methods available.\n",
    "\n",
    "Lists can be appended or extended, using `append()` or `extend()`, which add an element or a list to the end, respectively.\n",
    "\n",
    "List indexing works similarly to strings, but there can be **lists inside lists**, so you may need multiple levels of indexing. Reverse indexing can be used to go from the other end, and this also works for strings and other data structures."
   ]
  },
  {
   "cell_type": "code",
   "execution_count": null,
   "metadata": {},
   "outputs": [],
   "source": [
    "my_list = [1, \"a\", 6.0] # assign list\n",
    "my_list[0] = 2 # change the first element\n",
    "my_list.append(\"new_element\") # add another element to the end\n",
    "\n",
    "print(my_list) # show entire list\n",
    "print(my_list[3]) # show fourth value\n",
    "print(my_list[-1]) # show last value using reverse indexing\n",
    "\n",
    "my_list.append([3, 4 , 5, \"c\"])\n",
    "\n",
    "print(my_list[4][3])"
   ]
  },
  {
   "cell_type": "markdown",
   "metadata": {},
   "source": [
    "#### Do This:\n",
    "\n",
    "Show one or two methods of strings and lists."
   ]
  },
  {
   "cell_type": "code",
   "execution_count": null,
   "metadata": {},
   "outputs": [],
   "source": []
  },
  {
   "cell_type": "markdown",
   "metadata": {},
   "source": [
    "#### Tuples\n",
    "\n",
    "Tuples are almost identical to lists, except in that they are immutable.\n",
    "\n",
    "They are designated with parentheses `()`, and are often used for coordinates or pairs.\n",
    "\n",
    "Tuples have fewer methods available."
   ]
  },
  {
   "cell_type": "code",
   "execution_count": null,
   "metadata": {},
   "outputs": [],
   "source": [
    "my_tuple = (3, 2)"
   ]
  },
  {
   "cell_type": "markdown",
   "metadata": {},
   "source": [
    "#### Sets\n",
    "\n",
    "Sets conain values similarly to tuples, but **all elements are unique**.\n",
    "\n",
    "Because the elements are unique, sets can be very helpful with [set methods](https://docs.python.org/2/library/sets.html).\n",
    "\n",
    "For example, seeing which genes are common between two sets of gene names.\n",
    "\n",
    "Sets are made using `set()`, and elements can be added using `my_set.add()`."
   ]
  },
  {
   "cell_type": "code",
   "execution_count": null,
   "metadata": {},
   "outputs": [],
   "source": [
    "my_set = set([1, 1, 3, 4])\n",
    "print(my_set)\n",
    "\n",
    "my_set.add(5)\n",
    "print(my_set)\n",
    "\n",
    "my_set2 = set([5, 2, 1])"
   ]
  },
  {
   "cell_type": "markdown",
   "metadata": {},
   "source": [
    "#### Do This:\n",
    " Use set operations to find the elements **in common** between `my_set` and `my_set2`.\n"
   ]
  },
  {
   "cell_type": "code",
   "execution_count": null,
   "metadata": {},
   "outputs": [],
   "source": []
  },
  {
   "cell_type": "markdown",
   "metadata": {},
   "source": [
    "#### Dictionaries\n",
    "\n",
    "Dictionaries are a whole different thing. They work similar to a real dictionary, in that they have keys and values.\n",
    "\n",
    "<img src=\"https://github.com/liberjul/Python_for_Beginners/blob/master/Dictionary_example.png?raw=true\" width=\"50%\" alt=\"The word being defined in the dictionary is the key, while the entry beneath is the value.\"><p style=\"text-align: right;\">From: Dictionary.com</p>\n",
    "\n",
    "They allow you to look up the value for any key you index.\n",
    "\n",
    "Dictionaries can be made using curly brackets `{}` or with `dict()`.\n",
    "\n",
    "All the keys or values can be accessed with the methods `keys()` and `values()`.\n",
    "\n",
    "Keys and values can be any type.\n",
    "\n",
    "Entries can be added using the bracket `[]` operator"
   ]
  },
  {
   "cell_type": "code",
   "execution_count": null,
   "metadata": {},
   "outputs": [],
   "source": [
    "my_dict = {\"astronaut\" : \"a person engaged in or trainined for spaceflight\"} # make a dictionary\n",
    "my_dict[\"rocket\"] = \"a space capsule or vehicle put into orbit by such devices.\" # add an entry\n",
    "print(my_dict[\"astronaut\"]) # lookup the key and return the value"
   ]
  },
  {
   "cell_type": "markdown",
   "metadata": {},
   "source": [
    "#### Imports\n",
    "\n",
    "Imports allow you to do some really cool things that are beyond base Python.\n",
    "\n",
    "One of the most common packages to import is called Numpy, which is a portmanteau of \"numerical python\". It can be imported with a shortened name, which is conventionally `np`."
   ]
  },
  {
   "cell_type": "code",
   "execution_count": null,
   "metadata": {},
   "outputs": [],
   "source": [
    "import numpy as np"
   ]
  },
  {
   "cell_type": "markdown",
   "metadata": {},
   "source": [
    "#### Arrays\n",
    "\n",
    "The main tool of numpy is the _array_, which contains one or more values of the **same type**.\n",
    "\n",
    "Arrays are mutable, and can contain other arrays, which gives them a `shape` attribute.\n",
    "There are many, many methods and attributes to arrays, which makes them super useful.\n",
    "\n",
    "Arrays have speed benefits, and because all the _elements_ (values in the array) are the same type, operations can be performed across all the elements."
   ]
  },
  {
   "cell_type": "code",
   "execution_count": null,
   "metadata": {},
   "outputs": [],
   "source": [
    "my_array = np.array([3, 42, 5, 12, 20])\n",
    "print(my_array * 12)"
   ]
  },
  {
   "cell_type": "code",
   "execution_count": null,
   "metadata": {},
   "outputs": [],
   "source": [
    "my_array[3] = 4\n",
    "print(my_array)"
   ]
  },
  {
   "cell_type": "markdown",
   "metadata": {},
   "source": [
    "#### Do This:\n",
    "\n",
    "Make another array, called `my_array2`, of whichever length you choose. Do a mathematical operation between the two arrays and describe what happens."
   ]
  },
  {
   "cell_type": "code",
   "execution_count": null,
   "metadata": {},
   "outputs": [],
   "source": []
  },
  {
   "cell_type": "markdown",
   "metadata": {},
   "source": []
  },
  {
   "cell_type": "markdown",
   "metadata": {},
   "source": [
    "### Functions\n",
    "\n",
    "Functions are a way of doing things. They generally take inputs (called arguments), do something inside, and may return an output (often called returns). One function you are already familiar with is `print()`. Function names are followed by parentheses `()`.\n",
    "\n",
    "You can also make your own functions. Here, as in other code structures in python, you need to pay attention to indentation.\n",
    "\n",
    "Each function _definition_ begins with `def`, then the function name, followed by inputs seperated by commas. End the _header_ line with a colon, then everything beneath is indented.\n",
    "\n",
    "```\n",
    "def example_function(input_1, input_2):\n",
    "    function_body\n",
    "```\n",
    "\n",
    "The `return` keyword can be used to output something within the function to the outside."
   ]
  },
  {
   "cell_type": "code",
   "execution_count": 38,
   "metadata": {},
   "outputs": [
    {
     "name": "stdout",
     "output_type": "stream",
     "text": [
      "9\n"
     ]
    }
   ],
   "source": [
    "def example_function(input_1, input_2):\n",
    "    sum_of_inputs = input_1 + input_2\n",
    "    return sum_of_inputs\n",
    "\n",
    "print(example_function(5, 4))"
   ]
  },
  {
   "cell_type": "markdown",
   "metadata": {},
   "source": [
    "#### Do This:\n",
    "\n",
    "Write a function to take the difference of two inputed numbers."
   ]
  },
  {
   "cell_type": "code",
   "execution_count": null,
   "metadata": {},
   "outputs": [],
   "source": []
  },
  {
   "cell_type": "markdown",
   "metadata": {},
   "source": [
    "Any variables defined inside the function are called _local variables_, compared to ones outside which are _global variables_. Your program will not remember any local variables after the function is run.\n",
    "\n",
    "#### Do This:\n",
    "Try running `example_function` as above, then print `sum_of_inputs`, which is a local variable."
   ]
  },
  {
   "cell_type": "code",
   "execution_count": null,
   "metadata": {},
   "outputs": [],
   "source": []
  },
  {
   "cell_type": "markdown",
   "metadata": {},
   "source": [
    "Functions can also have default argument values, which can make the code easier to reuse but requires less code.\n",
    "\n",
    "To do this, put all you non-default arguments first, then default ones after."
   ]
  },
  {
   "cell_type": "code",
   "execution_count": 39,
   "metadata": {},
   "outputs": [
    {
     "name": "stdout",
     "output_type": "stream",
     "text": [
      "hello world\n"
     ]
    }
   ],
   "source": [
    "def example_with_defaults(word_1, word_2, whitespace=\" \"):\n",
    "    return word_1 + whitespace + word_2\n",
    "\n",
    "print(example_with_defaults(\"hello\", \"world\"))"
   ]
  },
  {
   "cell_type": "markdown",
   "metadata": {},
   "source": [
    "### Thanks for doing Exercise 2!\n",
    "\n",
    "#### More will follow soon!"
   ]
  }
 ],
 "metadata": {
  "kernelspec": {
   "display_name": "Python 3",
   "language": "python",
   "name": "python3"
  },
  "language_info": {
   "codemirror_mode": {
    "name": "ipython",
    "version": 3
   },
   "file_extension": ".py",
   "mimetype": "text/x-python",
   "name": "python",
   "nbconvert_exporter": "python",
   "pygments_lexer": "ipython3",
   "version": "3.7.2"
  }
 },
 "nbformat": 4,
 "nbformat_minor": 2
}
